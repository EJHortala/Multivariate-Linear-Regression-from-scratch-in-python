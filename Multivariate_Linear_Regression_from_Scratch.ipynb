{
  "nbformat": 4,
  "nbformat_minor": 0,
  "metadata": {
    "kernelspec": {
      "display_name": "Python 3",
      "language": "python",
      "name": "python3"
    },
    "language_info": {
      "codemirror_mode": {
        "name": "ipython",
        "version": 3
      },
      "file_extension": ".py",
      "mimetype": "text/x-python",
      "name": "python",
      "nbconvert_exporter": "python",
      "pygments_lexer": "ipython3",
      "version": "3.7.3"
    },
    "toc": {
      "base_numbering": 1,
      "nav_menu": {},
      "number_sections": true,
      "sideBar": true,
      "skip_h1_title": false,
      "title_cell": "Table of Contents",
      "title_sidebar": "Contents",
      "toc_cell": false,
      "toc_position": {},
      "toc_section_display": true,
      "toc_window_display": false
    },
    "colab": {
      "name": "Multivariate Linear Regression from Scratch ",
      "provenance": [],
      "collapsed_sections": [],
      "include_colab_link": true
    }
  },
  "cells": [
    {
      "cell_type": "markdown",
      "metadata": {
        "id": "view-in-github",
        "colab_type": "text"
      },
      "source": [
        "<a href=\"https://colab.research.google.com/github/prateeksharma51/Multivariate-Linear-Regression-from-scratch-in-python/blob/master/Multivariate_Linear_Regression_from_Scratch.ipynb\" target=\"_parent\"><img src=\"https://colab.research.google.com/assets/colab-badge.svg\" alt=\"Open In Colab\"/></a>"
      ]
    },
    {
      "cell_type": "code",
      "metadata": {
        "ExecuteTime": {
          "end_time": "2019-05-31T13:35:52.455218Z",
          "start_time": "2019-05-31T13:35:46.055335Z"
        },
        "id": "s_mn-H7G7V1B",
        "colab_type": "code",
        "colab": {}
      },
      "source": [
        "from sklearn.datasets import load_boston\n",
        "from numpy import *\n",
        "import matplotlib.pyplot as plt \n",
        "from tqdm import tqdm\n",
        "from sklearn.preprocessing import StandardScaler\n",
        "import numpy as np\n",
        "from sklearn import preprocessing\n",
        "boston = load_boston()"
      ],
      "execution_count": 0,
      "outputs": []
    },
    {
      "cell_type": "markdown",
      "metadata": {
        "id": "S1F2_GMLUGEL",
        "colab_type": "text"
      },
      "source": [
        "## About The Dataset :"
      ]
    },
    {
      "cell_type": "code",
      "metadata": {
        "ExecuteTime": {
          "end_time": "2019-05-31T13:35:52.551937Z",
          "start_time": "2019-05-31T13:35:52.536977Z"
        },
        "id": "xflzI6kZ7V1P",
        "colab_type": "code",
        "outputId": "054ad9fd-7c38-478c-8127-ef94290e32e5",
        "colab": {
          "base_uri": "https://localhost:8080/",
          "height": 904
        }
      },
      "source": [
        "print(boston.DESCR)"
      ],
      "execution_count": 0,
      "outputs": [
        {
          "output_type": "stream",
          "text": [
            ".. _boston_dataset:\n",
            "\n",
            "Boston house prices dataset\n",
            "---------------------------\n",
            "\n",
            "**Data Set Characteristics:**  \n",
            "\n",
            "    :Number of Instances: 506 \n",
            "\n",
            "    :Number of Attributes: 13 numeric/categorical predictive. Median Value (attribute 14) is usually the target.\n",
            "\n",
            "    :Attribute Information (in order):\n",
            "        - CRIM     per capita crime rate by town\n",
            "        - ZN       proportion of residential land zoned for lots over 25,000 sq.ft.\n",
            "        - INDUS    proportion of non-retail business acres per town\n",
            "        - CHAS     Charles River dummy variable (= 1 if tract bounds river; 0 otherwise)\n",
            "        - NOX      nitric oxides concentration (parts per 10 million)\n",
            "        - RM       average number of rooms per dwelling\n",
            "        - AGE      proportion of owner-occupied units built prior to 1940\n",
            "        - DIS      weighted distances to five Boston employment centres\n",
            "        - RAD      index of accessibility to radial highways\n",
            "        - TAX      full-value property-tax rate per $10,000\n",
            "        - PTRATIO  pupil-teacher ratio by town\n",
            "        - B        1000(Bk - 0.63)^2 where Bk is the proportion of blacks by town\n",
            "        - LSTAT    % lower status of the population\n",
            "        - MEDV     Median value of owner-occupied homes in $1000's\n",
            "\n",
            "    :Missing Attribute Values: None\n",
            "\n",
            "    :Creator: Harrison, D. and Rubinfeld, D.L.\n",
            "\n",
            "This is a copy of UCI ML housing dataset.\n",
            "https://archive.ics.uci.edu/ml/machine-learning-databases/housing/\n",
            "\n",
            "\n",
            "This dataset was taken from the StatLib library which is maintained at Carnegie Mellon University.\n",
            "\n",
            "The Boston house-price data of Harrison, D. and Rubinfeld, D.L. 'Hedonic\n",
            "prices and the demand for clean air', J. Environ. Economics & Management,\n",
            "vol.5, 81-102, 1978.   Used in Belsley, Kuh & Welsch, 'Regression diagnostics\n",
            "...', Wiley, 1980.   N.B. Various transformations are used in the table on\n",
            "pages 244-261 of the latter.\n",
            "\n",
            "The Boston house-price data has been used in many machine learning papers that address regression\n",
            "problems.   \n",
            "     \n",
            ".. topic:: References\n",
            "\n",
            "   - Belsley, Kuh & Welsch, 'Regression diagnostics: Identifying Influential Data and Sources of Collinearity', Wiley, 1980. 244-261.\n",
            "   - Quinlan,R. (1993). Combining Instance-Based and Model-Based Learning. In Proceedings on the Tenth International Conference of Machine Learning, 236-243, University of Massachusetts, Amherst. Morgan Kaufmann.\n",
            "\n"
          ],
          "name": "stdout"
        }
      ]
    },
    {
      "cell_type": "code",
      "metadata": {
        "ExecuteTime": {
          "end_time": "2019-05-31T13:35:52.468161Z",
          "start_time": "2019-05-31T13:35:52.458187Z"
        },
        "id": "YDrk6eD37V1G",
        "colab_type": "code",
        "outputId": "9fe2534d-e86d-4a17-d12f-b5513d55643d",
        "colab": {
          "base_uri": "https://localhost:8080/",
          "height": 102
        }
      },
      "source": [
        "print(\"Shape of Dataset : \", boston.data.shape)\n",
        "print(\"Feature names : \", boston.feature_names)\n",
        "print(\"Target Values : \", boston.target[:20])"
      ],
      "execution_count": 0,
      "outputs": [
        {
          "output_type": "stream",
          "text": [
            "Shape of Dataset :  (506, 13)\n",
            "Feature names :  ['CRIM' 'ZN' 'INDUS' 'CHAS' 'NOX' 'RM' 'AGE' 'DIS' 'RAD' 'TAX' 'PTRATIO'\n",
            " 'B' 'LSTAT']\n",
            "Target Values :  [24.  21.6 34.7 33.4 36.2 28.7 22.9 27.1 16.5 18.9 15.  18.9 21.7 20.4\n",
            " 18.2 19.9 23.1 17.5 20.2 18.2]\n"
          ],
          "name": "stdout"
        }
      ]
    },
    {
      "cell_type": "code",
      "metadata": {
        "ExecuteTime": {
          "end_time": "2019-05-31T13:35:54.122131Z",
          "start_time": "2019-05-31T13:35:52.553931Z"
        },
        "id": "oER7B11G7V1S",
        "colab_type": "code",
        "outputId": "ef7acfbe-9903-4689-ed28-794e6ba0c6e6",
        "colab": {
          "base_uri": "https://localhost:8080/",
          "height": 153
        }
      },
      "source": [
        "import pandas as pd\n",
        "X = pd.DataFrame(boston.data, columns = boston.feature_names)\n",
        "Y = boston.target\n",
        "\n",
        "print(X.head())"
      ],
      "execution_count": 0,
      "outputs": [
        {
          "output_type": "stream",
          "text": [
            "      CRIM    ZN  INDUS  CHAS    NOX  ...  RAD    TAX  PTRATIO       B  LSTAT\n",
            "0  0.00632  18.0   2.31   0.0  0.538  ...  1.0  296.0     15.3  396.90   4.98\n",
            "1  0.02731   0.0   7.07   0.0  0.469  ...  2.0  242.0     17.8  396.90   9.14\n",
            "2  0.02729   0.0   7.07   0.0  0.469  ...  2.0  242.0     17.8  392.83   4.03\n",
            "3  0.03237   0.0   2.18   0.0  0.458  ...  3.0  222.0     18.7  394.63   2.94\n",
            "4  0.06905   0.0   2.18   0.0  0.458  ...  3.0  222.0     18.7  396.90   5.33\n",
            "\n",
            "[5 rows x 13 columns]\n"
          ],
          "name": "stdout"
        }
      ]
    },
    {
      "cell_type": "code",
      "metadata": {
        "ExecuteTime": {
          "end_time": "2019-05-31T13:35:54.506081Z",
          "start_time": "2019-05-31T13:35:54.345511Z"
        },
        "id": "h2dIxoRK7V1d",
        "colab_type": "code",
        "outputId": "8de06380-4e14-4519-935e-95b9c9a59b2c",
        "colab": {
          "base_uri": "https://localhost:8080/",
          "height": 255
        }
      },
      "source": [
        "from sklearn.model_selection import train_test_split\n",
        "X_train, X_test, Y_train, Y_test = train_test_split(X, Y, test_size = 0.33, random_state = 5)\n",
        "print(X_train.shape)\n",
        "print(X_test.shape)\n",
        "print(Y_train.shape)\n",
        "print(Y_test.shape)\n",
        "print(X_train.head(2))                                              # Standardizing Data \n",
        "print(X_train.head(2))"
      ],
      "execution_count": 0,
      "outputs": [
        {
          "output_type": "stream",
          "text": [
            "(339, 13)\n",
            "(167, 13)\n",
            "(339,)\n",
            "(167,)\n",
            "        CRIM   ZN  INDUS  CHAS    NOX  ...   RAD    TAX  PTRATIO       B  LSTAT\n",
            "435  11.1604  0.0  18.10   0.0  0.740  ...  24.0  666.0     20.2  109.85  23.27\n",
            "88    0.0566  0.0   3.41   0.0  0.489  ...   2.0  270.0     17.8  396.90   5.50\n",
            "\n",
            "[2 rows x 13 columns]\n",
            "        CRIM   ZN  INDUS  CHAS    NOX  ...   RAD    TAX  PTRATIO       B  LSTAT\n",
            "435  11.1604  0.0  18.10   0.0  0.740  ...  24.0  666.0     20.2  109.85  23.27\n",
            "88    0.0566  0.0   3.41   0.0  0.489  ...   2.0  270.0     17.8  396.90   5.50\n",
            "\n",
            "[2 rows x 13 columns]\n"
          ],
          "name": "stdout"
        }
      ]
    },
    {
      "cell_type": "code",
      "metadata": {
        "ExecuteTime": {
          "end_time": "2019-05-31T13:35:55.207461Z",
          "start_time": "2019-05-31T13:35:54.508076Z"
        },
        "id": "uKAaPE6-7V1f",
        "colab_type": "code",
        "outputId": "063c1cd3-4b82-4953-c85a-bc840c4f6582",
        "colab": {
          "base_uri": "https://localhost:8080/",
          "height": 305
        }
      },
      "source": [
        "from sklearn.linear_model import LinearRegression\n",
        "import matplotlib.pyplot as plt\n",
        "\n",
        "lm = LinearRegression()\n",
        "lm.fit(X_train, Y_train)\n",
        "\n",
        "\n",
        "y_pred_from_sklearn = lm.predict(X_test)\n",
        "\n",
        "plt.scatter(Y_test, y_pred_from_sklearn)\n",
        "plt.xlabel(\"Prices: $Y_i$\")\n",
        "plt.ylabel(\"Predicted prices: $\\hat{Y}_i$\")\n",
        "plt.title(\"Prices vs Predicted prices: $Y_i$ vs $\\hat{Y}_i$\")\n",
        "plt.show()"
      ],
      "execution_count": 0,
      "outputs": [
        {
          "output_type": "display_data",
          "data": {
            "image/png": "[encoded data removed]",
            "text/plain": [
              "<Figure size 432x288 with 1 Axes>"
            ]
          },
          "metadata": {
            "tags": []
          }
        }
      ]
    },
    {
      "cell_type": "markdown",
      "metadata": {
        "id": "smlfpEza_Ms9",
        "colab_type": "text"
      },
      "source": [
        "## Comparing numeric values :\n"
      ]
    },
    {
      "cell_type": "code",
      "metadata": {
        "ExecuteTime": {
          "end_time": "2019-05-31T13:35:55.221405Z",
          "start_time": "2019-05-31T13:35:55.213427Z"
        },
        "id": "CjvoFdW37V1i",
        "colab_type": "code",
        "outputId": "615389ff-8d72-499a-de62-668adebf0e3e",
        "colab": {
          "base_uri": "https://localhost:8080/",
          "height": 359
        }
      },
      "source": [
        "sklearn_pred_df = pd.DataFrame(\n",
        "    {\n",
        "        'Actual Value' : Y_test, \n",
        "     'Predicted Values' : y_pred_from_sklearn\n",
        "    }\n",
        ")\n",
        "sklearn_pred_df.head(10)"
      ],
      "execution_count": 0,
      "outputs": [
        {
          "output_type": "execute_result",
          "data": {
            "text/html": [
              "<div>\n",
              "<style scoped>\n",
              "    .dataframe tbody tr th:only-of-type {\n",
              "        vertical-align: middle;\n",
              "    }\n",
              "\n",
              "    .dataframe tbody tr th {\n",
              "        vertical-align: top;\n",
              "    }\n",
              "\n",
              "    .dataframe thead th {\n",
              "        text-align: right;\n",
              "    }\n",
              "</style>\n",
              "<table border=\"1\" class=\"dataframe\">\n",
              "  <thead>\n",
              "    <tr style=\"text-align: right;\">\n",
              "      <th></th>\n",
              "      <th>Actual Value</th>\n",
              "      <th>Predicted Values</th>\n",
              "    </tr>\n",
              "  </thead>\n",
              "  <tbody>\n",
              "    <tr>\n",
              "      <th>0</th>\n",
              "      <td>37.6</td>\n",
              "      <td>37.467236</td>\n",
              "    </tr>\n",
              "    <tr>\n",
              "      <th>1</th>\n",
              "      <td>27.9</td>\n",
              "      <td>31.391547</td>\n",
              "    </tr>\n",
              "    <tr>\n",
              "      <th>2</th>\n",
              "      <td>22.6</td>\n",
              "      <td>27.120196</td>\n",
              "    </tr>\n",
              "    <tr>\n",
              "      <th>3</th>\n",
              "      <td>13.8</td>\n",
              "      <td>6.468433</td>\n",
              "    </tr>\n",
              "    <tr>\n",
              "      <th>4</th>\n",
              "      <td>35.2</td>\n",
              "      <td>33.629667</td>\n",
              "    </tr>\n",
              "    <tr>\n",
              "      <th>5</th>\n",
              "      <td>10.4</td>\n",
              "      <td>5.670680</td>\n",
              "    </tr>\n",
              "    <tr>\n",
              "      <th>6</th>\n",
              "      <td>23.9</td>\n",
              "      <td>27.039467</td>\n",
              "    </tr>\n",
              "    <tr>\n",
              "      <th>7</th>\n",
              "      <td>29.0</td>\n",
              "      <td>29.927047</td>\n",
              "    </tr>\n",
              "    <tr>\n",
              "      <th>8</th>\n",
              "      <td>22.8</td>\n",
              "      <td>26.356613</td>\n",
              "    </tr>\n",
              "    <tr>\n",
              "      <th>9</th>\n",
              "      <td>23.2</td>\n",
              "      <td>22.452460</td>\n",
              "    </tr>\n",
              "  </tbody>\n",
              "</table>\n",
              "</div>"
            ],
            "text/plain": [
              "   Actual Value  Predicted Values\n",
              "0          37.6         37.467236\n",
              "1          27.9         31.391547\n",
              "2          22.6         27.120196\n",
              "3          13.8          6.468433\n",
              "4          35.2         33.629667\n",
              "5          10.4          5.670680\n",
              "6          23.9         27.039467\n",
              "7          29.0         29.927047\n",
              "8          22.8         26.356613\n",
              "9          23.2         22.452460"
            ]
          },
          "metadata": {
            "tags": []
          },
          "execution_count": 74
        }
      ]
    },
    {
      "cell_type": "markdown",
      "metadata": {
        "id": "-zt7fR3YRQOq",
        "colab_type": "text"
      },
      "source": [
        "\n",
        "## Functions needed to implement Linear Regression With Gradient Descent :"
      ]
    },
    {
      "cell_type": "markdown",
      "metadata": {
        "id": "vvsWPyEOFCMz",
        "colab_type": "text"
      },
      "source": [
        "### - Standardizing Data before plugging it into the Linear regression model. \n"
      ]
    },
    {
      "cell_type": "code",
      "metadata": {
        "id": "YItmlkZ3YPcQ",
        "colab_type": "code",
        "colab": {}
      },
      "source": [
        "\n",
        "X_train_standardized = (X_train - X_train .mean()) / X_train.std()\n",
        "X_test_standardized  = (X_test - X_test.mean()) /  X_test.std()"
      ],
      "execution_count": 0,
      "outputs": []
    },
    {
      "cell_type": "code",
      "metadata": {
        "ExecuteTime": {
          "end_time": "2019-05-31T13:37:04.415266Z",
          "start_time": "2019-05-31T13:37:04.410280Z"
        },
        "colab_type": "code",
        "id": "bzgVMbfDRGV5",
        "colab": {}
      },
      "source": [
        "def error_function(y_actual,y_predicted):\n",
        "    error = 0\n",
        "    for i in range(0,len(y_actual)):\n",
        "        error =  error + pow((y_actual[i] - y_predicted[i]),2)\n",
        "        return error/(2*len(y_actual))\n",
        "\n",
        "def y_predicted(w,x):\n",
        "    y_pred = np.zeros(len(x))\n",
        "    for i in range(0,len(x)):\n",
        "        for j in range(0,len(w)):\n",
        "            y_pred[i] = y_pred[i]+(w[j]*x[i][j] + w[-1])\n",
        "    return y_pred\n",
        "\n",
        "def gradient_descent(y_actual,y_pred,x):\n",
        "    grad = np.zeros(x.shape[1])\n",
        "    for i in range(x.shape[1]):\n",
        "        for j in range(0,len(y_actual)):\n",
        "            grad[i] = - (y_actual[j] - y_pred[j])*x[j][i] + grad[i]\n",
        "    return grad/len(y_actual)\n",
        "\n",
        "\n",
        "def weights(x_train,y_train,num_iterations,learning_rate):\n",
        "    no_of_rows = x_train.shape[0]\n",
        "    no_of_columns = x_train.shape[1]\n",
        "    new_x_train = np.ones((no_of_rows,no_of_columns+1))\n",
        "    new_x_train[:,0:no_of_columns] = x_train\n",
        "    w = np.zeros(no_of_columns)\n",
        "    w =np.append(w,1)\n",
        "    for i in range(0,num_iterations):\n",
        "        y_pred = y_predicted(w,new_x_train)\n",
        "        error = error_function(y_train,y_pred)\n",
        "        print(\"mean square error: \",error,\"after\",i,\"th iteration\")\n",
        "        MSE_points.append(error)\n",
        "        grad = gradient_descent(y_train,y_pred,new_x_train)\n",
        "        w = w - learning_rate*grad\n",
        "        learning_rate = learning_rate/1.05                                # Learning rate Decay \n",
        "    return w\n",
        "\n",
        "def regression_test(x_test,w):\n",
        "    row = x_test.shape[0]\n",
        "    column = x_test.shape[1]\n",
        "    new_x_test = np.ones((row,column+1))\n",
        "    new_x_test[:,0:column] = x_test\n",
        "    y_pred = y_predicted(w,new_x_test)\n",
        "    return(y_pred)"
      ],
      "execution_count": 0,
      "outputs": []
    },
    {
      "cell_type": "code",
      "metadata": {
        "ExecuteTime": {
          "end_time": "2019-05-31T13:37:14.082841Z",
          "start_time": "2019-05-31T13:37:05.111175Z"
        },
        "scrolled": true,
        "id": "oKwFqM5q7V2O",
        "colab_type": "code",
        "outputId": "3b1643c5-d7dd-4a7a-e523-2f835ed3110d",
        "colab": {
          "base_uri": "https://localhost:8080/",
          "height": 1000
        }
      },
      "source": [
        "MSE_points = []\n",
        "num_iterations = 300\n",
        "learning_rate = 0.1\n",
        "w = weights(X_train_standardized,Y_train,num_iterations,learning_rate)\n",
        "Y_pred = regression_test(X_test_standardized,w)\n",
        "error_function(Y_test,Y_pred)"
      ],
      "execution_count": 0,
      "outputs": [
        {
          "output_type": "stream",
          "text": [
            "mean square error:  0.003775811209439526 after 0 th iteration\n",
            "mean square error:  0.0826725827949328 after 1 th iteration\n",
            "mean square error:  4.5193392606368205e-05 after 2 th iteration\n",
            "mean square error:  0.004138636437771344 after 3 th iteration\n",
            "mean square error:  0.0006857779989617055 after 4 th iteration\n",
            "mean square error:  0.0010223468075220624 after 5 th iteration\n",
            "mean square error:  0.0009240258755377416 after 6 th iteration\n",
            "mean square error:  0.0010168313257835264 after 7 th iteration\n",
            "mean square error:  0.001108552818120816 after 8 th iteration\n",
            "mean square error:  0.0012050536323118589 after 9 th iteration\n",
            "mean square error:  0.0012959134389107741 after 10 th iteration\n",
            "mean square error:  0.001377881798860908 after 11 th iteration\n",
            "mean square error:  0.001449848074663109 after 12 th iteration\n",
            "mean square error:  0.0015118682814598315 after 13 th iteration\n",
            "mean square error:  0.0015645678061702124 after 14 th iteration\n",
            "mean square error:  0.0016088206593499487 after 15 th iteration\n",
            "mean square error:  0.0016455768000353623 after 16 th iteration\n",
            "mean square error:  0.001675771074965855 after 17 th iteration\n",
            "mean square error:  0.0017002776860356715 after 18 th iteration\n",
            "mean square error:  0.001719890114040865 after 19 th iteration\n",
            "mean square error:  0.00173531514707415 after 20 th iteration\n",
            "mean square error:  0.0017471745224180832 after 21 th iteration\n",
            "mean square error:  0.0017560104507826745 after 22 th iteration\n",
            "mean square error:  0.001762292882629552 after 23 th iteration\n",
            "mean square error:  0.0017664273038233264 after 24 th iteration\n",
            "mean square error:  0.0017687623925035543 after 25 th iteration\n",
            "mean square error:  0.0017695971895834472 after 26 th iteration\n",
            "mean square error:  0.0017691876230333807 after 27 th iteration\n",
            "mean square error:  0.0017677523345560337 after 28 th iteration\n",
            "mean square error:  0.0017654778181235805 after 29 th iteration\n",
            "mean square error:  0.0017625229121571888 after 30 th iteration\n",
            "mean square error:  0.0017590227024185511 after 31 th iteration\n",
            "mean square error:  0.0017550918979727004 after 32 th iteration\n",
            "mean square error:  0.0017508277421669591 after 33 th iteration\n",
            "mean square error:  0.001746312517064351 after 34 th iteration\n",
            "mean square error:  0.0017416156947590675 after 35 th iteration\n",
            "mean square error:  0.0017367957834266898 after 36 th iteration\n",
            "mean square error:  0.0017319019103712449 after 37 th iteration\n",
            "mean square error:  0.0017269751790276486 after 38 th iteration\n",
            "mean square error:  0.0017220498320096858 after 39 th iteration\n",
            "mean square error:  0.0017171542479263275 after 40 th iteration\n",
            "mean square error:  0.0017123117958249604 after 41 th iteration\n",
            "mean square error:  0.0017075415677409922 after 42 th iteration\n",
            "mean square error:  0.00170285900689893 after 43 th iteration\n",
            "mean square error:  0.0016982764465764786 after 44 th iteration\n",
            "mean square error:  0.001693803572465472 after 45 th iteration\n",
            "mean square error:  0.0016894478194959123 after 46 th iteration\n",
            "mean square error:  0.0016852147124923247 after 47 th iteration\n",
            "mean square error:  0.0016811081586674758 after 48 th iteration\n",
            "mean square error:  0.001677130698794509 after 49 th iteration\n",
            "mean square error:  0.0016732837229060306 after 50 th iteration\n",
            "mean square error:  0.0016695676555225272 after 51 th iteration\n",
            "mean square error:  0.0016659821146912507 after 52 th iteration\n",
            "mean square error:  0.0016625260485020866 after 53 th iteration\n",
            "mean square error:  0.0016591978522219064 after 54 th iteration\n",
            "mean square error:  0.0016559954687421965 after 55 th iteration\n",
            "mean square error:  0.0016529164746523848 after 56 th iteration\n",
            "mean square error:  0.0016499581539251532 after 57 th iteration\n",
            "mean square error:  0.0016471175609210317 after 58 th iteration\n",
            "mean square error:  0.0016443915741811608 after 59 th iteration\n",
            "mean square error:  0.0016417769422726943 after 60 th iteration\n",
            "mean square error:  0.001639270322776362 after 61 th iteration\n",
            "mean square error:  0.001636868315355528 after 62 th iteration\n",
            "mean square error:  0.0016345674897173695 after 63 th iteration\n",
            "mean square error:  0.0016323644091660841 after 64 th iteration\n",
            "mean square error:  0.0016302556503525975 after 65 th iteration\n",
            "mean square error:  0.0016282378197439546 after 66 th iteration\n",
            "mean square error:  0.001626307567264271 after 67 th iteration\n",
            "mean square error:  0.0016244615974988646 after 68 th iteration\n",
            "mean square error:  0.0016226966788005985 after 69 th iteration\n",
            "mean square error:  0.001621009650591766 after 70 th iteration\n",
            "mean square error:  0.0016193974291164011 after 71 th iteration\n",
            "mean square error:  0.001617857011863202 after 72 th iteration\n",
            "mean square error:  0.0016163854808506541 after 73 th iteration\n",
            "mean square error:  0.0016149800049400408 after 74 th iteration\n",
            "mean square error:  0.001613637841320193 after 75 th iteration\n",
            "mean square error:  0.001612356336288943 after 76 th iteration\n",
            "mean square error:  0.0016111329254390092 after 77 th iteration\n",
            "mean square error:  0.0016099651333426914 after 78 th iteration\n",
            "mean square error:  0.001608850572815969 after 79 th iteration\n",
            "mean square error:  0.001607786943832986 after 80 th iteration\n",
            "mean square error:  0.001606772032151367 after 81 th iteration\n",
            "mean square error:  0.0016058037077012882 after 82 th iteration\n",
            "mean square error:  0.0016048799227838307 after 83 th iteration\n",
            "mean square error:  0.0016039987101177447 after 84 th iteration\n",
            "mean square error:  0.0016031581807684965 after 85 th iteration\n",
            "mean square error:  0.001602356521988794 after 86 th iteration\n",
            "mean square error:  0.001601591994995438 after 87 th iteration\n",
            "mean square error:  0.0016008629327039954 after 88 th iteration\n",
            "mean square error:  0.0016001677374392932 after 89 th iteration\n",
            "mean square error:  0.001599504878637671 after 90 th iteration\n",
            "mean square error:  0.001598872890553603 after 91 th iteration\n",
            "mean square error:  0.0015982703699823856 after 92 th iteration\n",
            "mean square error:  0.0015976959740074247 after 93 th iteration\n",
            "mean square error:  0.0015971484177806773 after 94 th iteration\n",
            "mean square error:  0.0015966264723418198 after 95 th iteration\n",
            "mean square error:  0.001596128962481869 after 96 th iteration\n",
            "mean square error:  0.001595654764655227 after 97 th iteration\n",
            "mean square error:  0.0015952028049432713 after 98 th iteration\n",
            "mean square error:  0.001594772057072408 after 99 th iteration\n",
            "mean square error:  0.001594361540487998 after 100 th iteration\n",
            "mean square error:  0.0015939703184856629 after 101 th iteration\n",
            "mean square error:  0.0015935974964009357 after 102 th iteration\n",
            "mean square error:  0.001593242219857251 after 103 th iteration\n",
            "mean square error:  0.001592903673072657 after 104 th iteration\n",
            "mean square error:  0.001592581077224878 after 105 th iteration\n",
            "mean square error:  0.00159227368887405 after 106 th iteration\n",
            "mean square error:  0.0015919807984428151 after 107 th iteration\n",
            "mean square error:  0.0015917017287522513 after 108 th iteration\n",
            "mean square error:  0.0015914358336132771 after 109 th iteration\n",
            "mean square error:  0.0015911824964718222 after 110 th iteration\n",
            "mean square error:  0.0015909411291067167 after 111 th iteration\n",
            "mean square error:  0.0015907111703791024 after 112 th iteration\n",
            "mean square error:  0.0015904920850316221 after 113 th iteration\n",
            "mean square error:  0.0015902833625363309 after 114 th iteration\n",
            "mean square error:  0.0015900845159896265 after 115 th iteration\n",
            "mean square error:  0.0015898950810527101 after 116 th iteration\n",
            "mean square error:  0.0015897146149363782 after 117 th iteration\n",
            "mean square error:  0.0015895426954282573 after 118 th iteration\n",
            "mean square error:  0.0015893789199613317 after 119 th iteration\n",
            "mean square error:  0.0015892229047221348 after 120 th iteration\n",
            "mean square error:  0.0015890742837972583 after 121 th iteration\n",
            "mean square error:  0.00158893270835666 after 122 th iteration\n",
            "mean square error:  0.0015887978458725134 after 123 th iteration\n",
            "mean square error:  0.0015886693793720767 after 124 th iteration\n",
            "mean square error:  0.001588547006723529 after 125 th iteration\n",
            "mean square error:  0.001588430439953032 after 126 th iteration\n",
            "mean square error:  0.0015883194045922886 after 127 th iteration\n",
            "mean square error:  0.001588213639054936 after 128 th iteration\n",
            "mean square error:  0.0015881128940408928 after 129 th iteration\n",
            "mean square error:  0.001588016931967358 after 130 th iteration\n",
            "mean square error:  0.0015879255264252233 after 131 th iteration\n",
            "mean square error:  0.0015878384616603515 after 132 th iteration\n",
            "mean square error:  0.0015877555320778988 after 133 th iteration\n",
            "mean square error:  0.0015876765417694723 after 134 th iteration\n",
            "mean square error:  0.0015876013040615046 after 135 th iteration\n",
            "mean square error:  0.0015875296410844608 after 136 th iteration\n",
            "mean square error:  0.001587461383361469 after 137 th iteration\n",
            "mean square error:  0.0015873963694160048 after 138 th iteration\n",
            "mean square error:  0.0015873344453974734 after 139 th iteration\n",
            "mean square error:  0.0015872754647239938 after 140 th iteration\n",
            "mean square error:  0.0015872192877416902 after 141 th iteration\n",
            "mean square error:  0.0015871657813996303 after 142 th iteration\n",
            "mean square error:  0.0015871148189398677 after 143 th iteration\n",
            "mean square error:  0.0015870662796017214 after 144 th iteration\n",
            "mean square error:  0.0015870200483399039 after 145 th iteration\n",
            "mean square error:  0.0015869760155555394 after 146 th iteration\n",
            "mean square error:  0.0015869340768399065 after 147 th iteration\n",
            "mean square error:  0.001586894132729937 after 148 th iteration\n",
            "mean square error:  0.0015868560884750975 after 149 th iteration\n",
            "mean square error:  0.0015868198538153406 after 150 th iteration\n",
            "mean square error:  0.0015867853427691456 after 151 th iteration\n",
            "mean square error:  0.001586752473431689 after 152 th iteration\n",
            "mean square error:  0.0015867211677823303 after 153 th iteration\n",
            "mean square error:  0.001586691351501149 after 154 th iteration\n",
            "mean square error:  0.0015866629537941261 after 155 th iteration\n",
            "mean square error:  0.001586635907226352 after 156 th iteration\n",
            "mean square error:  0.0015866101475633515 after 157 th iteration\n",
            "mean square error:  0.0015865856136195668 after 158 th iteration\n",
            "mean square error:  0.0015865622471141142 after 159 th iteration\n",
            "mean square error:  0.001586539992533341 after 160 th iteration\n",
            "mean square error:  0.0015865187969997686 after 161 th iteration\n",
            "mean square error:  0.0015864986101472365 after 162 th iteration\n",
            "mean square error:  0.0015864793840019847 after 163 th iteration\n",
            "mean square error:  0.001586461072869209 after 164 th iteration\n",
            "mean square error:  0.0015864436332251256 after 165 th iteration\n",
            "mean square error:  0.0015864270236140127 after 166 th iteration\n",
            "mean square error:  0.001586411204550167 after 167 th iteration\n",
            "mean square error:  0.0015863961384244476 after 168 th iteration\n",
            "mean square error:  0.0015863817894152827 after 169 th iteration\n",
            "mean square error:  0.0015863681234038686 after 170 th iteration\n",
            "mean square error:  0.0015863551078933206 after 171 th iteration\n",
            "mean square error:  0.0015863427119317544 after 172 th iteration\n",
            "mean square error:  0.0015863309060389003 after 173 th iteration\n",
            "mean square error:  0.0015863196621362762 after 174 th iteration\n",
            "mean square error:  0.0015863089534805933 after 175 th iteration\n",
            "mean square error:  0.0015862987546003686 after 176 th iteration\n",
            "mean square error:  0.001586289041235507 after 177 th iteration\n",
            "mean square error:  0.001586279790279774 after 178 th iteration\n",
            "mean square error:  0.0015862709797259875 after 179 th iteration\n",
            "mean square error:  0.0015862625886137471 after 180 th iteration\n",
            "mean square error:  0.0015862545969797734 after 181 th iteration\n",
            "mean square error:  0.0015862469858104074 after 182 th iteration\n",
            "mean square error:  0.0015862397369966496 after 183 th iteration\n",
            "mean square error:  0.001586232833290972 after 184 th iteration\n",
            "mean square error:  0.0015862262582665373 after 185 th iteration\n",
            "mean square error:  0.0015862199962780156 after 186 th iteration\n",
            "mean square error:  0.0015862140324245696 after 187 th iteration\n",
            "mean square error:  0.0015862083525144245 after 188 th iteration\n",
            "mean square error:  0.0015862029430310609 after 189 th iteration\n",
            "mean square error:  0.0015861977911012044 after 190 th iteration\n",
            "mean square error:  0.0015861928844642338 after 191 th iteration\n",
            "mean square error:  0.001586188211442973 after 192 th iteration\n",
            "mean square error:  0.0015861837609159992 after 193 th iteration\n",
            "mean square error:  0.001586179522291192 after 194 th iteration\n",
            "mean square error:  0.0015861754854805306 after 195 th iteration\n",
            "mean square error:  0.0015861716408761704 after 196 th iteration\n",
            "mean square error:  0.0015861679793275443 after 197 th iteration\n",
            "mean square error:  0.00158616449211963 after 198 th iteration\n",
            "mean square error:  0.001586161170952233 after 199 th iteration\n",
            "mean square error:  0.00158615800792024 after 200 th iteration\n",
            "mean square error:  0.0015861549954948417 after 201 th iteration\n",
            "mean square error:  0.0015861521265055855 after 202 th iteration\n",
            "mean square error:  0.0015861493941233507 after 203 th iteration\n",
            "mean square error:  0.0015861467918441231 after 204 th iteration\n",
            "mean square error:  0.00158614431347349 after 205 th iteration\n",
            "mean square error:  0.001586141953111919 after 206 th iteration\n",
            "mean square error:  0.0015861397051407345 after 207 th iteration\n",
            "mean square error:  0.001586137564208734 after 208 th iteration\n",
            "mean square error:  0.001586135525219461 after 209 th iteration\n",
            "mean square error:  0.0015861335833191135 after 210 th iteration\n",
            "mean square error:  0.001586131733884941 after 211 th iteration\n",
            "mean square error:  0.0015861299725142748 after 212 th iteration\n",
            "mean square error:  0.001586128295014062 after 213 th iteration\n",
            "mean square error:  0.0015861266973908965 after 214 th iteration\n",
            "mean square error:  0.00158612517584145 after 215 th iteration\n",
            "mean square error:  0.0015861237267434975 after 216 th iteration\n",
            "mean square error:  0.0015861223466472772 after 217 th iteration\n",
            "mean square error:  0.0015861210322672674 after 218 th iteration\n",
            "mean square error:  0.0015861197804743607 after 219 th iteration\n",
            "mean square error:  0.0015861185882884564 after 220 th iteration\n",
            "mean square error:  0.001586117452871314 after 221 th iteration\n",
            "mean square error:  0.0015861163715198637 after 222 th iteration\n",
            "mean square error:  0.0015861153416597063 after 223 th iteration\n",
            "mean square error:  0.0015861143608390164 after 224 th iteration\n",
            "mean square error:  0.0015861134267227313 after 225 th iteration\n",
            "mean square error:  0.0015861125370869615 after 226 th iteration\n",
            "mean square error:  0.0015861116898136893 after 227 th iteration\n",
            "mean square error:  0.0015861108828857662 after 228 th iteration\n",
            "mean square error:  0.001586110114382064 after 229 th iteration\n",
            "mean square error:  0.0015861093824729594 after 230 th iteration\n",
            "mean square error:  0.001586108685415922 after 231 th iteration\n",
            "mean square error:  0.001586108021551398 after 232 th iteration\n",
            "mean square error:  0.0015861073892988358 after 233 th iteration\n",
            "mean square error:  0.0015861067871529937 after 234 th iteration\n",
            "mean square error:  0.0015861062136802403 after 235 th iteration\n",
            "mean square error:  0.001586105667515282 after 236 th iteration\n",
            "mean square error:  0.0015861051473577464 after 237 th iteration\n",
            "mean square error:  0.0015861046519692471 after 238 th iteration\n",
            "mean square error:  0.0015861041801703236 after 239 th iteration\n",
            "mean square error:  0.0015861037308377145 after 240 th iteration\n",
            "mean square error:  0.001586103302901601 after 241 th iteration\n",
            "mean square error:  0.0015861028953431642 after 242 th iteration\n",
            "mean square error:  0.0015861025071920217 after 243 th iteration\n",
            "mean square error:  0.001586102137524063 after 244 th iteration\n",
            "mean square error:  0.0015861017854591382 after 245 th iteration\n",
            "mean square error:  0.0015861014501590469 after 246 th iteration\n",
            "mean square error:  0.001586101130825465 after 247 th iteration\n",
            "mean square error:  0.00158610082669811 after 248 th iteration\n",
            "mean square error:  0.001586100537052868 after 249 th iteration\n",
            "mean square error:  0.0015861002612001644 after 250 th iteration\n",
            "mean square error:  0.0015860999984831689 after 251 th iteration\n",
            "mean square error:  0.0015860997482764212 after 252 th iteration\n",
            "mean square error:  0.0015860995099841963 after 253 th iteration\n",
            "mean square error:  0.0015860992830391393 after 254 th iteration\n",
            "mean square error:  0.0015860990669009022 after 255 th iteration\n",
            "mean square error:  0.0015860988610549155 after 256 th iteration\n",
            "mean square error:  0.0015860986650110625 after 257 th iteration\n",
            "mean square error:  0.0015860984783025649 after 258 th iteration\n",
            "mean square error:  0.001586098300484903 after 259 th iteration\n",
            "mean square error:  0.0015860981311347096 after 260 th iteration\n",
            "mean square error:  0.001586097969848757 after 261 th iteration\n",
            "mean square error:  0.0015860978162430639 after 262 th iteration\n",
            "mean square error:  0.001586097669951896 after 263 th iteration\n",
            "mean square error:  0.001586097530626941 after 264 th iteration\n",
            "mean square error:  0.0015860973979364913 after 265 th iteration\n",
            "mean square error:  0.0015860972715645882 after 266 th iteration\n",
            "mean square error:  0.0015860971512103835 after 267 th iteration\n",
            "mean square error:  0.00158609703658731 after 268 th iteration\n",
            "mean square error:  0.0015860969274224667 after 269 th iteration\n",
            "mean square error:  0.0015860968234559286 after 270 th iteration\n",
            "mean square error:  0.0015860967244401495 after 271 th iteration\n",
            "mean square error:  0.001586096630139418 after 272 th iteration\n",
            "mean square error:  0.0015860965403291672 after 273 th iteration\n",
            "mean square error:  0.0015860964547955905 after 274 th iteration\n",
            "mean square error:  0.0015860963733350252 after 275 th iteration\n",
            "mean square error:  0.0015860962957535247 after 276 th iteration\n",
            "mean square error:  0.0015860962218663805 after 277 th iteration\n",
            "mean square error:  0.00158609615149766 after 278 th iteration\n",
            "mean square error:  0.0015860960844798304 after 279 th iteration\n",
            "mean square error:  0.001586096020653304 after 280 th iteration\n",
            "mean square error:  0.0015860959598661387 after 281 th iteration\n",
            "mean square error:  0.001586095901973608 after 282 th iteration\n",
            "mean square error:  0.0015860958468378488 after 283 th iteration\n",
            "mean square error:  0.001586095794327606 after 284 th iteration\n",
            "mean square error:  0.0015860957443178288 after 285 th iteration\n",
            "mean square error:  0.0015860956966894887 after 286 th iteration\n",
            "mean square error:  0.0015860956513291424 after 287 th iteration\n",
            "mean square error:  0.0015860956081288123 after 288 th iteration\n",
            "mean square error:  0.0015860955669856364 after 289 th iteration\n",
            "mean square error:  0.0015860955278016676 after 290 th iteration\n",
            "mean square error:  0.001586095490483596 after 291 th iteration\n",
            "mean square error:  0.0015860954549425771 after 292 th iteration\n",
            "mean square error:  0.0015860954210939787 after 293 th iteration\n",
            "mean square error:  0.0015860953888572214 after 294 th iteration\n",
            "mean square error:  0.0015860953581555409 after 295 th iteration\n",
            "mean square error:  0.0015860953289158516 after 296 th iteration\n",
            "mean square error:  0.0015860953010685122 after 297 th iteration\n",
            "mean square error:  0.0015860952745472522 after 298 th iteration\n",
            "mean square error:  0.001586095249288907 after 299 th iteration\n"
          ],
          "name": "stdout"
        },
        {
          "output_type": "execute_result",
          "data": {
            "text/plain": [
              "0.006429854125149544"
            ]
          },
          "metadata": {
            "tags": []
          },
          "execution_count": 77
        }
      ]
    },
    {
      "cell_type": "code",
      "metadata": {
        "id": "w5HA1VhX7V2Q",
        "colab_type": "code",
        "outputId": "f6891156-15a4-4fa4-abbe-2a0b73316d0b",
        "colab": {
          "base_uri": "https://localhost:8080/",
          "height": 606
        }
      },
      "source": [
        "import seaborn as sns\n",
        "plt.figure(figsize=(10,10))\n",
        "plt.plot(range(0,300 ), MSE_points)\n",
        "plt.xlabel('MSE')\n",
        "plt.show()\n",
        "# sns.lineplot(MSE_points)"
      ],
      "execution_count": 0,
      "outputs": [
        {
          "output_type": "display_data",
          "data": {
            "image/png": "[encoded data removed]",
            "text/plain": [
              "<Figure size 720x720 with 1 Axes>"
            ]
          },
          "metadata": {
            "tags": []
          }
        }
      ]
    },
    {
      "cell_type": "markdown",
      "metadata": {
        "id": "REzdnoJY7V2T",
        "colab_type": "text"
      },
      "source": [
        "# ScatterPlot for the predicted values using the custom Linear Regression:"
      ]
    },
    {
      "cell_type": "code",
      "metadata": {
        "id": "kYYCY_WQJdKn",
        "colab_type": "code",
        "outputId": "421d73f9-e83d-4ae4-8b55-1772dc210d3d",
        "colab": {
          "base_uri": "https://localhost:8080/",
          "height": 359
        }
      },
      "source": [
        "pred_df = pd.DataFrame(\n",
        "    {\n",
        "        'Actual Value' : Y_test, \n",
        "     'Predicted Values' : Y_pred,\n",
        "    }\n",
        ")\n",
        "pred_df.head(10)"
      ],
      "execution_count": 0,
      "outputs": [
        {
          "output_type": "execute_result",
          "data": {
            "text/html": [
              "<div>\n",
              "<style scoped>\n",
              "    .dataframe tbody tr th:only-of-type {\n",
              "        vertical-align: middle;\n",
              "    }\n",
              "\n",
              "    .dataframe tbody tr th {\n",
              "        vertical-align: top;\n",
              "    }\n",
              "\n",
              "    .dataframe thead th {\n",
              "        text-align: right;\n",
              "    }\n",
              "</style>\n",
              "<table border=\"1\" class=\"dataframe\">\n",
              "  <thead>\n",
              "    <tr style=\"text-align: right;\">\n",
              "      <th></th>\n",
              "      <th>Actual Value</th>\n",
              "      <th>Predicted Values</th>\n",
              "    </tr>\n",
              "  </thead>\n",
              "  <tbody>\n",
              "    <tr>\n",
              "      <th>0</th>\n",
              "      <td>37.6</td>\n",
              "      <td>36.134541</td>\n",
              "    </tr>\n",
              "    <tr>\n",
              "      <th>1</th>\n",
              "      <td>27.9</td>\n",
              "      <td>29.261992</td>\n",
              "    </tr>\n",
              "    <tr>\n",
              "      <th>2</th>\n",
              "      <td>22.6</td>\n",
              "      <td>27.077227</td>\n",
              "    </tr>\n",
              "    <tr>\n",
              "      <th>3</th>\n",
              "      <td>13.8</td>\n",
              "      <td>6.394572</td>\n",
              "    </tr>\n",
              "    <tr>\n",
              "      <th>4</th>\n",
              "      <td>35.2</td>\n",
              "      <td>33.728038</td>\n",
              "    </tr>\n",
              "    <tr>\n",
              "      <th>5</th>\n",
              "      <td>10.4</td>\n",
              "      <td>7.454196</td>\n",
              "    </tr>\n",
              "    <tr>\n",
              "      <th>6</th>\n",
              "      <td>23.9</td>\n",
              "      <td>27.307610</td>\n",
              "    </tr>\n",
              "    <tr>\n",
              "      <th>7</th>\n",
              "      <td>29.0</td>\n",
              "      <td>29.537510</td>\n",
              "    </tr>\n",
              "    <tr>\n",
              "      <th>8</th>\n",
              "      <td>22.8</td>\n",
              "      <td>26.986247</td>\n",
              "    </tr>\n",
              "    <tr>\n",
              "      <th>9</th>\n",
              "      <td>23.2</td>\n",
              "      <td>21.034343</td>\n",
              "    </tr>\n",
              "  </tbody>\n",
              "</table>\n",
              "</div>"
            ],
            "text/plain": [
              "   Actual Value  Predicted Values\n",
              "0          37.6         36.134541\n",
              "1          27.9         29.261992\n",
              "2          22.6         27.077227\n",
              "3          13.8          6.394572\n",
              "4          35.2         33.728038\n",
              "5          10.4          7.454196\n",
              "6          23.9         27.307610\n",
              "7          29.0         29.537510\n",
              "8          22.8         26.986247\n",
              "9          23.2         21.034343"
            ]
          },
          "metadata": {
            "tags": []
          },
          "execution_count": 79
        }
      ]
    },
    {
      "cell_type": "code",
      "metadata": {
        "ExecuteTime": {
          "end_time": "2019-05-31T13:37:14.408025Z",
          "start_time": "2019-05-31T13:37:14.084805Z"
        },
        "id": "QJNBpAgM7V2T",
        "colab_type": "code",
        "outputId": "5e96c328-a092-4e11-b86f-e8728ff8e24c",
        "colab": {
          "base_uri": "https://localhost:8080/",
          "height": 305
        }
      },
      "source": [
        "plt.scatter(Y_test, Y_pred)\n",
        "# plt.plot([min(X_train), max(X_train)], [min(Y_pred), max(Y_pred)], color='red')\n",
        "\n",
        "plt.xlabel(\"Prices: $Y_i$\")\n",
        "plt.ylabel(\"Predicted prices: $\\hat{Y}_i$\")\n",
        "plt.title(\"Prices vs Predicted prices: $Y_i$ vs $\\hat{Y}_i$\")\n",
        "plt.show()"
      ],
      "execution_count": 0,
      "outputs": [
        {
          "output_type": "display_data",
          "data": {
            "image/png": "[encoded data removed]",
            "text/plain": [
              "<Figure size 432x288 with 1 Axes>"
            ]
          },
          "metadata": {
            "tags": []
          }
        }
      ]
    },
    {
      "cell_type": "markdown",
      "metadata": {
        "id": "J6GBg4SG7V2W",
        "colab_type": "text"
      },
      "source": [
        "<H1 align='center'>VS</H1>"
      ]
    },
    {
      "cell_type": "markdown",
      "metadata": {
        "id": "Q9vm7lov7V2W",
        "colab_type": "text"
      },
      "source": [
        "# ScatterPlot for the predicted values using the Linear Regression by sklearn:"
      ]
    },
    {
      "cell_type": "code",
      "metadata": {
        "ExecuteTime": {
          "end_time": "2019-05-31T13:37:14.652322Z",
          "start_time": "2019-05-31T13:37:14.409935Z"
        },
        "id": "-zFHN8Fe7V2X",
        "colab_type": "code",
        "outputId": "7a1d8c8c-43cd-4858-e464-cd19e1b239cb",
        "colab": {
          "base_uri": "https://localhost:8080/",
          "height": 305
        }
      },
      "source": [
        "plt.scatter(Y_test, y_pred_from_sklearn)\n",
        "plt.xlabel(\"Prices: $Y_i$\")\n",
        "plt.ylabel(\"Predicted prices: $\\hat{Y}_i$\")\n",
        "plt.title(\"Prices vs Predicted prices: $Y_i$ vs $\\hat{Y}_i$\")\n",
        "plt.show()"
      ],
      "execution_count": 0,
      "outputs": [
        {
          "output_type": "display_data",
          "data": {
            "image/png": "[encoded data removed]",
            "text/plain": [
              "<Figure size 432x288 with 1 Axes>"
            ]
          },
          "metadata": {
            "tags": []
          }
        }
      ]
    },
    {
      "cell_type": "code",
      "metadata": {
        "id": "LpRQuQ-rTOEU",
        "colab_type": "code",
        "outputId": "6599dfa0-e60e-4a62-f0a7-dec9bc52791b",
        "colab": {
          "base_uri": "https://localhost:8080/",
          "height": 51
        }
      },
      "source": [
        "from sklearn.metrics import mean_squared_error\n",
        "\n",
        "MSE_custom_LR_Model = mean_squared_error(Y_test, Y_pred)\n",
        "MSE_sklearn_LR_Model = mean_squared_error(Y_test, y_pred_from_sklearn)\n",
        "\n",
        "print(MSE_custom_LR_Model)\n",
        "print(MSE_sklearn_LR_Model)"
      ],
      "execution_count": 0,
      "outputs": [
        {
          "output_type": "stream",
          "text": [
            "31.096027780822244\n",
            "28.5304587659747\n"
          ],
          "name": "stdout"
        }
      ]
    },
    {
      "cell_type": "code",
      "metadata": {
        "id": "tTmhCUDCTOHj",
        "colab_type": "code",
        "outputId": "6f415449-48c2-4aef-c94a-33faed4f4175",
        "colab": {
          "base_uri": "https://localhost:8080/",
          "height": 119
        }
      },
      "source": [
        "from prettytable import PrettyTable\n",
        "\n",
        "x = PrettyTable(['Models', 'MSE'])\n",
        "\n",
        "x.add_row(['Linear Regression (SKLEARN)', MSE_sklearn_LR_Model])\n",
        "x.add_row(['Linear Regression (From Scratch)', MSE_custom_LR_Model])\n",
        "print(x)"
      ],
      "execution_count": 0,
      "outputs": [
        {
          "output_type": "stream",
          "text": [
            "+----------------------------------+--------------------+\n",
            "|              Models              |        MSE         |\n",
            "+----------------------------------+--------------------+\n",
            "|   Linear Regression (SKLEARN)    |  28.5304587659747  |\n",
            "| Linear Regression (From Scratch) | 31.096027780822244 |\n",
            "+----------------------------------+--------------------+\n"
          ],
          "name": "stdout"
        }
      ]
    },
    {
      "cell_type": "markdown",
      "metadata": {
        "id": "R8ZoiFvK_GbR",
        "colab_type": "text"
      },
      "source": [
        "# It can be deduced from the above cells that our custom made Linear Regression in core python code performs almost as good as the Linear Regression model we import from sklearn. \n"
      ]
    }
  ]
}