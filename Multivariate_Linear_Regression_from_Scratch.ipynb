{
  "nbformat": 4,
  "nbformat_minor": 0,
  "metadata": {
    "kernelspec": {
      "display_name": "Python 3",
      "language": "python",
      "name": "python3"
    },
    "language_info": {
      "codemirror_mode": {
        "name": "ipython",
        "version": 3
      },
      "file_extension": ".py",
      "mimetype": "text/x-python",
      "name": "python",
      "nbconvert_exporter": "python",
      "pygments_lexer": "ipython3",
      "version": "3.7.3"
    },
    "toc": {
      "base_numbering": 1,
      "nav_menu": {},
      "number_sections": true,
      "sideBar": true,
      "skip_h1_title": false,
      "title_cell": "Table of Contents",
      "title_sidebar": "Contents",
      "toc_cell": false,
      "toc_position": {},
      "toc_section_display": true,
      "toc_window_display": false
    },
    "colab": {
      "name": "Multivariate Linear Regression from Scratch ",
      "provenance": [],
      "collapsed_sections": [],
      "toc_visible": true,
      "include_colab_link": true
    }
  },
  "cells": [
    {
      "cell_type": "markdown",
      "metadata": {
        "id": "view-in-github",
        "colab_type": "text"
      },
      "source": [
        "<a href=\"https://colab.research.google.com/github/prateeksharma51/Multivariate-Linear-Regression-from-scratch-in-python/blob/master/Multivariate_Linear_Regression_from_Scratch.ipynb\" target=\"_parent\"><img src=\"https://colab.research.google.com/assets/colab-badge.svg\" alt=\"Open In Colab\"/></a>"
      ]
    },
    {
      "cell_type": "code",
      "metadata": {
        "ExecuteTime": {
          "end_time": "2019-05-31T13:35:52.455218Z",
          "start_time": "2019-05-31T13:35:46.055335Z"
        },
        "id": "s_mn-H7G7V1B",
        "colab_type": "code",
        "colab": {}
      },
      "source": [
        "from sklearn.datasets import load_boston\n",
        "from numpy import *\n",
        "import matplotlib.pyplot as plt \n",
        "from tqdm import tqdm\n",
        "from sklearn.preprocessing import StandardScaler\n",
        "import numpy as np\n",
        "from sklearn import preprocessing\n",
        "boston = load_boston()"
      ],
      "execution_count": 0,
      "outputs": []
    },
    {
      "cell_type": "markdown",
      "metadata": {
        "id": "S1F2_GMLUGEL",
        "colab_type": "text"
      },
      "source": [
        "## About The Dataset :"
      ]
    },
    {
      "cell_type": "code",
      "metadata": {
        "ExecuteTime": {
          "end_time": "2019-05-31T13:35:52.551937Z",
          "start_time": "2019-05-31T13:35:52.536977Z"
        },
        "id": "xflzI6kZ7V1P",
        "colab_type": "code",
        "outputId": "938ad838-43b3-41a4-cf40-df742f20b6a5",
        "colab": {
          "base_uri": "https://localhost:8080/",
          "height": 904
        }
      },
      "source": [
        "print(boston.DESCR)"
      ],
      "execution_count": 202,
      "outputs": [
        {
          "output_type": "stream",
          "text": [
            ".. _boston_dataset:\n",
            "\n",
            "Boston house prices dataset\n",
            "---------------------------\n",
            "\n",
            "**Data Set Characteristics:**  \n",
            "\n",
            "    :Number of Instances: 506 \n",
            "\n",
            "    :Number of Attributes: 13 numeric/categorical predictive. Median Value (attribute 14) is usually the target.\n",
            "\n",
            "    :Attribute Information (in order):\n",
            "        - CRIM     per capita crime rate by town\n",
            "        - ZN       proportion of residential land zoned for lots over 25,000 sq.ft.\n",
            "        - INDUS    proportion of non-retail business acres per town\n",
            "        - CHAS     Charles River dummy variable (= 1 if tract bounds river; 0 otherwise)\n",
            "        - NOX      nitric oxides concentration (parts per 10 million)\n",
            "        - RM       average number of rooms per dwelling\n",
            "        - AGE      proportion of owner-occupied units built prior to 1940\n",
            "        - DIS      weighted distances to five Boston employment centres\n",
            "        - RAD      index of accessibility to radial highways\n",
            "        - TAX      full-value property-tax rate per $10,000\n",
            "        - PTRATIO  pupil-teacher ratio by town\n",
            "        - B        1000(Bk - 0.63)^2 where Bk is the proportion of blacks by town\n",
            "        - LSTAT    % lower status of the population\n",
            "        - MEDV     Median value of owner-occupied homes in $1000's\n",
            "\n",
            "    :Missing Attribute Values: None\n",
            "\n",
            "    :Creator: Harrison, D. and Rubinfeld, D.L.\n",
            "\n",
            "This is a copy of UCI ML housing dataset.\n",
            "https://archive.ics.uci.edu/ml/machine-learning-databases/housing/\n",
            "\n",
            "\n",
            "This dataset was taken from the StatLib library which is maintained at Carnegie Mellon University.\n",
            "\n",
            "The Boston house-price data of Harrison, D. and Rubinfeld, D.L. 'Hedonic\n",
            "prices and the demand for clean air', J. Environ. Economics & Management,\n",
            "vol.5, 81-102, 1978.   Used in Belsley, Kuh & Welsch, 'Regression diagnostics\n",
            "...', Wiley, 1980.   N.B. Various transformations are used in the table on\n",
            "pages 244-261 of the latter.\n",
            "\n",
            "The Boston house-price data has been used in many machine learning papers that address regression\n",
            "problems.   \n",
            "     \n",
            ".. topic:: References\n",
            "\n",
            "   - Belsley, Kuh & Welsch, 'Regression diagnostics: Identifying Influential Data and Sources of Collinearity', Wiley, 1980. 244-261.\n",
            "   - Quinlan,R. (1993). Combining Instance-Based and Model-Based Learning. In Proceedings on the Tenth International Conference of Machine Learning, 236-243, University of Massachusetts, Amherst. Morgan Kaufmann.\n",
            "\n"
          ],
          "name": "stdout"
        }
      ]
    },
    {
      "cell_type": "code",
      "metadata": {
        "ExecuteTime": {
          "end_time": "2019-05-31T13:35:52.468161Z",
          "start_time": "2019-05-31T13:35:52.458187Z"
        },
        "id": "YDrk6eD37V1G",
        "colab_type": "code",
        "outputId": "e7a7407a-877d-48fa-cabf-6ffb25a17c68",
        "colab": {
          "base_uri": "https://localhost:8080/",
          "height": 102
        }
      },
      "source": [
        "print(\"Shape of Dataset : \", boston.data.shape)\n",
        "print(\"Feature names : \", boston.feature_names)\n",
        "print(\"Target Values : \", boston.target[:20])"
      ],
      "execution_count": 203,
      "outputs": [
        {
          "output_type": "stream",
          "text": [
            "Shape of Dataset :  (506, 13)\n",
            "Feature names :  ['CRIM' 'ZN' 'INDUS' 'CHAS' 'NOX' 'RM' 'AGE' 'DIS' 'RAD' 'TAX' 'PTRATIO'\n",
            " 'B' 'LSTAT']\n",
            "Target Values :  [24.  21.6 34.7 33.4 36.2 28.7 22.9 27.1 16.5 18.9 15.  18.9 21.7 20.4\n",
            " 18.2 19.9 23.1 17.5 20.2 18.2]\n"
          ],
          "name": "stdout"
        }
      ]
    },
    {
      "cell_type": "code",
      "metadata": {
        "ExecuteTime": {
          "end_time": "2019-05-31T13:35:54.122131Z",
          "start_time": "2019-05-31T13:35:52.553931Z"
        },
        "id": "oER7B11G7V1S",
        "colab_type": "code",
        "outputId": "a3041fed-e913-4b61-b222-c811621c0f54",
        "colab": {
          "base_uri": "https://localhost:8080/",
          "height": 153
        }
      },
      "source": [
        "import pandas as pd\n",
        "X = pd.DataFrame(boston.data, columns = boston.feature_names)\n",
        "Y = boston.target\n",
        "X = (X-X.mean())/X.std()                                               # Standardizing Data \n",
        "Y = (Y-Y.mean())/Y.std()\n",
        "print(X.head())"
      ],
      "execution_count": 207,
      "outputs": [
        {
          "output_type": "stream",
          "text": [
            "       CRIM        ZN     INDUS  ...   PTRATIO         B     LSTAT\n",
            "0 -0.419367  0.284548 -1.286636  ... -1.457558  0.440616 -1.074499\n",
            "1 -0.416927 -0.487240 -0.592794  ... -0.302794  0.440616 -0.491953\n",
            "2 -0.416929 -0.487240 -0.592794  ... -0.302794  0.396035 -1.207532\n",
            "3 -0.416338 -0.487240 -1.305586  ...  0.112920  0.415751 -1.360171\n",
            "4 -0.412074 -0.487240 -1.305586  ...  0.112920  0.440616 -1.025487\n",
            "\n",
            "[5 rows x 13 columns]\n"
          ],
          "name": "stdout"
        }
      ]
    },
    {
      "cell_type": "code",
      "metadata": {
        "ExecuteTime": {
          "end_time": "2019-05-31T13:35:54.506081Z",
          "start_time": "2019-05-31T13:35:54.345511Z"
        },
        "id": "h2dIxoRK7V1d",
        "colab_type": "code",
        "outputId": "be8e2a28-cbc6-4d7b-eede-19d581dc566c",
        "colab": {
          "base_uri": "https://localhost:8080/",
          "height": 85
        }
      },
      "source": [
        "from sklearn.model_selection import train_test_split\n",
        "X_train, X_test, Y_train, Y_test = train_test_split(X, Y, test_size = 0.33, random_state = 5)\n",
        "print(X_train.shape)\n",
        "print(X_test.shape)\n",
        "print(Y_train.shape)\n",
        "print(Y_test.shape)"
      ],
      "execution_count": 208,
      "outputs": [
        {
          "output_type": "stream",
          "text": [
            "(339, 13)\n",
            "(167, 13)\n",
            "(339,)\n",
            "(167,)\n"
          ],
          "name": "stdout"
        }
      ]
    },
    {
      "cell_type": "code",
      "metadata": {
        "ExecuteTime": {
          "end_time": "2019-05-31T13:35:55.207461Z",
          "start_time": "2019-05-31T13:35:54.508076Z"
        },
        "id": "uKAaPE6-7V1f",
        "colab_type": "code",
        "outputId": "c224cefe-a645-4ab2-8f3a-0587713e955b",
        "colab": {
          "base_uri": "https://localhost:8080/",
          "height": 309
        }
      },
      "source": [
        "from sklearn.linear_model import LinearRegression\n",
        "import matplotlib.pyplot as plt\n",
        "\n",
        "lm = LinearRegression()\n",
        "lm.fit(X_train, Y_train)\n",
        "\n",
        "\n",
        "y_pred_from_sklearn = lm.predict(X_test)\n",
        "\n",
        "plt.scatter(Y_test, y_pred_from_sklearn)\n",
        "plt.xlabel(\"Prices: $Y_i$\")\n",
        "plt.ylabel(\"Predicted prices: $\\hat{Y}_i$\")\n",
        "plt.title(\"Prices vs Predicted prices: $Y_i$ vs $\\hat{Y}_i$\")\n",
        "plt.show()"
      ],
      "execution_count": 209,
      "outputs": [
        {
          "output_type": "display_data",
          "data": {
            "image/png": "[encoded data removed]",
            "text/plain": [
              "<Figure size 432x288 with 1 Axes>"
            ]
          },
          "metadata": {
            "tags": []
          }
        }
      ]
    },
    {
      "cell_type": "markdown",
      "metadata": {
        "id": "smlfpEza_Ms9",
        "colab_type": "text"
      },
      "source": [
        "## Comparing numeric values :\n"
      ]
    },
    {
      "cell_type": "code",
      "metadata": {
        "ExecuteTime": {
          "end_time": "2019-05-31T13:35:55.221405Z",
          "start_time": "2019-05-31T13:35:55.213427Z"
        },
        "id": "CjvoFdW37V1i",
        "colab_type": "code",
        "outputId": "201814bd-4baf-483a-eaee-ebb9a6e39f23",
        "colab": {
          "base_uri": "https://localhost:8080/",
          "height": 359
        }
      },
      "source": [
        "sklearn_pred_df = pd.DataFrame(\n",
        "    {\n",
        "        'Actual Value' : Y_test, \n",
        "     'Predicted Values' : y_pred_from_sklearn\n",
        "    }\n",
        ")\n",
        "sklearn_pred_df.head(10)"
      ],
      "execution_count": 210,
      "outputs": [
        {
          "output_type": "execute_result",
          "data": {
            "text/html": [
              "<div>\n",
              "<style scoped>\n",
              "    .dataframe tbody tr th:only-of-type {\n",
              "        vertical-align: middle;\n",
              "    }\n",
              "\n",
              "    .dataframe tbody tr th {\n",
              "        vertical-align: top;\n",
              "    }\n",
              "\n",
              "    .dataframe thead th {\n",
              "        text-align: right;\n",
              "    }\n",
              "</style>\n",
              "<table border=\"1\" class=\"dataframe\">\n",
              "  <thead>\n",
              "    <tr style=\"text-align: right;\">\n",
              "      <th></th>\n",
              "      <th>Actual Value</th>\n",
              "      <th>Predicted Values</th>\n",
              "    </tr>\n",
              "  </thead>\n",
              "  <tbody>\n",
              "    <tr>\n",
              "      <th>0</th>\n",
              "      <td>1.639875</td>\n",
              "      <td>1.625426</td>\n",
              "    </tr>\n",
              "    <tr>\n",
              "      <th>1</th>\n",
              "      <td>0.584152</td>\n",
              "      <td>0.964163</td>\n",
              "    </tr>\n",
              "    <tr>\n",
              "      <th>2</th>\n",
              "      <td>0.007313</td>\n",
              "      <td>0.499280</td>\n",
              "    </tr>\n",
              "    <tr>\n",
              "      <th>3</th>\n",
              "      <td>-0.950457</td>\n",
              "      <td>-1.748406</td>\n",
              "    </tr>\n",
              "    <tr>\n",
              "      <th>4</th>\n",
              "      <td>1.378665</td>\n",
              "      <td>1.207754</td>\n",
              "    </tr>\n",
              "    <tr>\n",
              "      <th>5</th>\n",
              "      <td>-1.320504</td>\n",
              "      <td>-1.835231</td>\n",
              "    </tr>\n",
              "    <tr>\n",
              "      <th>6</th>\n",
              "      <td>0.148802</td>\n",
              "      <td>0.490494</td>\n",
              "    </tr>\n",
              "    <tr>\n",
              "      <th>7</th>\n",
              "      <td>0.703873</td>\n",
              "      <td>0.804771</td>\n",
              "    </tr>\n",
              "    <tr>\n",
              "      <th>8</th>\n",
              "      <td>0.029081</td>\n",
              "      <td>0.416174</td>\n",
              "    </tr>\n",
              "    <tr>\n",
              "      <th>9</th>\n",
              "      <td>0.072616</td>\n",
              "      <td>-0.008745</td>\n",
              "    </tr>\n",
              "  </tbody>\n",
              "</table>\n",
              "</div>"
            ],
            "text/plain": [
              "   Actual Value  Predicted Values\n",
              "0      1.639875          1.625426\n",
              "1      0.584152          0.964163\n",
              "2      0.007313          0.499280\n",
              "3     -0.950457         -1.748406\n",
              "4      1.378665          1.207754\n",
              "5     -1.320504         -1.835231\n",
              "6      0.148802          0.490494\n",
              "7      0.703873          0.804771\n",
              "8      0.029081          0.416174\n",
              "9      0.072616         -0.008745"
            ]
          },
          "metadata": {
            "tags": []
          },
          "execution_count": 210
        }
      ]
    },
    {
      "cell_type": "markdown",
      "metadata": {
        "id": "-zt7fR3YRQOq",
        "colab_type": "text"
      },
      "source": [
        "## Functions needed to implement Linear Regression With Gradient Descent :"
      ]
    },
    {
      "cell_type": "code",
      "metadata": {
        "id": "YItmlkZ3YPcQ",
        "colab_type": "code",
        "colab": {}
      },
      "source": [
        ""
      ],
      "execution_count": 0,
      "outputs": []
    },
    {
      "cell_type": "code",
      "metadata": {
        "ExecuteTime": {
          "end_time": "2019-05-31T13:37:04.415266Z",
          "start_time": "2019-05-31T13:37:04.410280Z"
        },
        "colab_type": "code",
        "id": "bzgVMbfDRGV5",
        "colab": {}
      },
      "source": [
        "def error_function(y_actual,y_predicted):\n",
        "    error = 0\n",
        "    for i in range(0,len(y_actual)):\n",
        "        error =  error + pow((y_actual[i] - y_predicted[i]),2)\n",
        "        return error/(2*len(y_actual))\n",
        "\n",
        "def y_predicted(w,x):\n",
        "    y_pred = np.zeros(len(x))\n",
        "    for i in range(0,len(x)):\n",
        "        for j in range(0,len(w)):\n",
        "            y_pred[i] = y_pred[i]+(w[j]*x[i][j] + w[-1])\n",
        "    return y_pred\n",
        "\n",
        "def gradient_descent(y_actual,y_pred,x):\n",
        "    grad = np.zeros(x.shape[1])\n",
        "    for i in range(x.shape[1]):\n",
        "        for j in range(0,len(y_actual)):\n",
        "            grad[i] = - (y_actual[j] - y_pred[j])*x[j][i] + grad[i]\n",
        "    return grad/len(y_actual)\n",
        "\n",
        "\n",
        "def weights(x_train,y_train,num_iterations,learning_rate):\n",
        "    no_of_rows = x_train.shape[0]\n",
        "    no_of_columns = x_train.shape[1]\n",
        "    new_x_train = np.ones((no_of_rows,no_of_columns+1))\n",
        "    new_x_train[:,0:no_of_columns] = x_train\n",
        "    w = np.zeros(no_of_columns)\n",
        "    w =np.append(w,1)\n",
        "    for i in range(0,num_iterations):\n",
        "        y_pred = y_predicted(w,new_x_train)\n",
        "        error = error_function(y_train,y_pred)\n",
        "        print(\"mean square error: \",error,\"after\",i,\"th iteration\")\n",
        "        MSE_points.append(error)\n",
        "        grad = gradient_descent(y_train,y_pred,new_x_train)\n",
        "        w = w - learning_rate*grad\n",
        "        learning_rate = learning_rate/1.05                                   # Learning rate Decay \n",
        "    return w\n",
        "\n",
        "def regression_test(x_test,w):\n",
        "    row = x_test.shape[0]\n",
        "    column = x_test.shape[1]\n",
        "    new_x_test = np.ones((row,column+1))\n",
        "    new_x_test[:,0:column] = x_test\n",
        "    y_pred = y_predicted(w,new_x_test)\n",
        "    return(y_pred)"
      ],
      "execution_count": 0,
      "outputs": []
    },
    {
      "cell_type": "code",
      "metadata": {
        "ExecuteTime": {
          "end_time": "2019-05-31T13:37:14.082841Z",
          "start_time": "2019-05-31T13:37:05.111175Z"
        },
        "scrolled": true,
        "id": "oKwFqM5q7V2O",
        "colab_type": "code",
        "outputId": "a5e8fa52-2cc5-4f8f-e7e8-1378cc33f4c0",
        "colab": {
          "base_uri": "https://localhost:8080/",
          "height": 884
        }
      },
      "source": [
        "MSE_points = []\n",
        "num_iterations = 50\n",
        "learning_rate = 0.1\n",
        "w = weights(X_train,Y_train,num_iterations,learning_rate)\n",
        "Y_pred = regression_test(X_test,w)\n",
        "error_function(Y_test,Y_pred)"
      ],
      "execution_count": 238,
      "outputs": [
        {
          "output_type": "stream",
          "text": [
            "mean square error:  0.3772975920298929 after 0 th iteration\n",
            "mean square error:  0.06697437797497283 after 1 th iteration\n",
            "mean square error:  0.01751030975516003 after 2 th iteration\n",
            "mean square error:  0.0013300510722301076 after 3 th iteration\n",
            "mean square error:  0.00033831110935241254 after 4 th iteration\n",
            "mean square error:  3.2426494525737504e-06 after 5 th iteration\n",
            "mean square error:  2.69411018250981e-05 after 6 th iteration\n",
            "mean square error:  2.1152551133710355e-05 after 7 th iteration\n",
            "mean square error:  2.2507775440086677e-05 after 8 th iteration\n",
            "mean square error:  2.3401802284765896e-05 after 9 th iteration\n",
            "mean square error:  2.4348851354779146e-05 after 10 th iteration\n",
            "mean square error:  2.521812432594822e-05 after 11 th iteration\n",
            "mean square error:  2.5975520116975447e-05 after 12 th iteration\n",
            "mean square error:  2.6612764458559743e-05 after 13 th iteration\n",
            "mean square error:  2.7134297079371538e-05 after 14 th iteration\n",
            "mean square error:  2.7550275621132443e-05 after 15 th iteration\n",
            "mean square error:  2.787294551210324e-05 after 16 th iteration\n",
            "mean square error:  2.811478075186916e-05 after 17 th iteration\n",
            "mean square error:  2.8287570661728828e-05 after 18 th iteration\n",
            "mean square error:  2.840201524313249e-05 after 19 th iteration\n",
            "mean square error:  2.8467592366050946e-05 after 20 th iteration\n",
            "mean square error:  2.8492566792777335e-05 after 21 th iteration\n",
            "mean square error:  2.848406917760899e-05 after 22 th iteration\n",
            "mean square error:  2.8448205382424507e-05 after 23 th iteration\n",
            "mean square error:  2.839017450690471e-05 after 24 th iteration\n",
            "mean square error:  2.8314384236180135e-05 after 25 th iteration\n",
            "mean square error:  2.8224557882991884e-05 after 26 th iteration\n",
            "mean square error:  2.812383074797518e-05 after 27 th iteration\n",
            "mean square error:  2.801483521410447e-05 after 28 th iteration\n",
            "mean square error:  2.789977494433413e-05 after 29 th iteration\n",
            "mean square error:  2.7780489020896773e-05 after 30 th iteration\n",
            "mean square error:  2.7658507058370056e-05 after 31 th iteration\n",
            "mean square error:  2.753509636241164e-05 after 32 th iteration\n",
            "mean square error:  2.741130216356636e-05 after 33 th iteration\n",
            "mean square error:  2.7287981872605175e-05 after 34 th iteration\n",
            "mean square error:  2.716583420457294e-05 after 35 th iteration\n",
            "mean square error:  2.7045423916691385e-05 after 36 th iteration\n",
            "mean square error:  2.6927202807759916e-05 after 37 th iteration\n",
            "mean square error:  2.681152753731917e-05 after 38 th iteration\n",
            "mean square error:  2.669867474299367e-05 after 39 th iteration\n",
            "mean square error:  2.6588853864322455e-05 after 40 th iteration\n",
            "mean square error:  2.6482218020536166e-05 after 41 th iteration\n",
            "mean square error:  2.6378873237377892e-05 after 42 th iteration\n",
            "mean square error:  2.627888627325394e-05 after 43 th iteration\n",
            "mean square error:  2.6182291256829877e-05 after 44 th iteration\n",
            "mean square error:  2.608909531575376e-05 after 45 th iteration\n",
            "mean square error:  2.59992833487028e-05 after 46 th iteration\n",
            "mean square error:  2.5912822069673268e-05 after 47 th iteration\n",
            "mean square error:  2.582966343375551e-05 after 48 th iteration\n",
            "mean square error:  2.5749747536994528e-05 after 49 th iteration\n"
          ],
          "name": "stdout"
        },
        {
          "output_type": "execute_result",
          "data": {
            "text/plain": [
              "0.00011880283690053058"
            ]
          },
          "metadata": {
            "tags": []
          },
          "execution_count": 238
        }
      ]
    },
    {
      "cell_type": "code",
      "metadata": {
        "id": "w5HA1VhX7V2Q",
        "colab_type": "code",
        "outputId": "dc5b6cac-9f73-4f70-e09f-1acebc7872d7",
        "colab": {
          "base_uri": "https://localhost:8080/",
          "height": 609
        }
      },
      "source": [
        "import seaborn as sns\n",
        "plt.figure(figsize=(10,10))\n",
        "plt.plot(range(0,50), MSE_points,'o')\n",
        "plt.xlabel('MSE')\n",
        "plt.show()\n",
        "# sns.lineplot(MSE_points)"
      ],
      "execution_count": 240,
      "outputs": [
        {
          "output_type": "display_data",
          "data": {
            "image/png": "[encoded data removed]",
            "text/plain": [
              "<Figure size 720x720 with 1 Axes>"
            ]
          },
          "metadata": {
            "tags": []
          }
        }
      ]
    },
    {
      "cell_type": "markdown",
      "metadata": {
        "id": "REzdnoJY7V2T",
        "colab_type": "text"
      },
      "source": [
        "# ScatterPlot for the predicted values using the custom Linear Regression:"
      ]
    },
    {
      "cell_type": "code",
      "metadata": {
        "id": "kYYCY_WQJdKn",
        "colab_type": "code",
        "colab": {
          "base_uri": "https://localhost:8080/",
          "height": 359
        },
        "outputId": "429243d5-a174-49f8-cb43-a745aa5b5925"
      },
      "source": [
        "pred_df = pd.DataFrame(\n",
        "    {\n",
        "        'Actual Value' : preprocessing.scale(Y_test), \n",
        "     'Predicted Values' : Y_pred,\n",
        "    }\n",
        ")\n",
        "pred_df.head(10)"
      ],
      "execution_count": 241,
      "outputs": [
        {
          "output_type": "execute_result",
          "data": {
            "text/html": [
              "<div>\n",
              "<style scoped>\n",
              "    .dataframe tbody tr th:only-of-type {\n",
              "        vertical-align: middle;\n",
              "    }\n",
              "\n",
              "    .dataframe tbody tr th {\n",
              "        vertical-align: top;\n",
              "    }\n",
              "\n",
              "    .dataframe thead th {\n",
              "        text-align: right;\n",
              "    }\n",
              "</style>\n",
              "<table border=\"1\" class=\"dataframe\">\n",
              "  <thead>\n",
              "    <tr style=\"text-align: right;\">\n",
              "      <th></th>\n",
              "      <th>Actual Value</th>\n",
              "      <th>Predicted Values</th>\n",
              "    </tr>\n",
              "  </thead>\n",
              "  <tbody>\n",
              "    <tr>\n",
              "      <th>0</th>\n",
              "      <td>1.557099</td>\n",
              "      <td>1.440677</td>\n",
              "    </tr>\n",
              "    <tr>\n",
              "      <th>1</th>\n",
              "      <td>0.555254</td>\n",
              "      <td>0.703886</td>\n",
              "    </tr>\n",
              "    <tr>\n",
              "      <th>2</th>\n",
              "      <td>0.007854</td>\n",
              "      <td>0.449024</td>\n",
              "    </tr>\n",
              "    <tr>\n",
              "      <th>3</th>\n",
              "      <td>-0.901035</td>\n",
              "      <td>-1.844720</td>\n",
              "    </tr>\n",
              "    <tr>\n",
              "      <th>4</th>\n",
              "      <td>1.309219</td>\n",
              "      <td>1.226553</td>\n",
              "    </tr>\n",
              "    <tr>\n",
              "      <th>5</th>\n",
              "      <td>-1.252197</td>\n",
              "      <td>-1.721261</td>\n",
              "    </tr>\n",
              "    <tr>\n",
              "      <th>6</th>\n",
              "      <td>0.142122</td>\n",
              "      <td>0.490787</td>\n",
              "    </tr>\n",
              "    <tr>\n",
              "      <th>7</th>\n",
              "      <td>0.668865</td>\n",
              "      <td>0.753488</td>\n",
              "    </tr>\n",
              "    <tr>\n",
              "      <th>8</th>\n",
              "      <td>0.028511</td>\n",
              "      <td>0.442277</td>\n",
              "    </tr>\n",
              "    <tr>\n",
              "      <th>9</th>\n",
              "      <td>0.069824</td>\n",
              "      <td>-0.242988</td>\n",
              "    </tr>\n",
              "  </tbody>\n",
              "</table>\n",
              "</div>"
            ],
            "text/plain": [
              "   Actual Value  Predicted Values\n",
              "0      1.557099          1.440677\n",
              "1      0.555254          0.703886\n",
              "2      0.007854          0.449024\n",
              "3     -0.901035         -1.844720\n",
              "4      1.309219          1.226553\n",
              "5     -1.252197         -1.721261\n",
              "6      0.142122          0.490787\n",
              "7      0.668865          0.753488\n",
              "8      0.028511          0.442277\n",
              "9      0.069824         -0.242988"
            ]
          },
          "metadata": {
            "tags": []
          },
          "execution_count": 241
        }
      ]
    },
    {
      "cell_type": "code",
      "metadata": {
        "ExecuteTime": {
          "end_time": "2019-05-31T13:37:14.408025Z",
          "start_time": "2019-05-31T13:37:14.084805Z"
        },
        "id": "QJNBpAgM7V2T",
        "colab_type": "code",
        "outputId": "f5c36d4f-a254-4321-c62b-7bdd11eb4d42",
        "colab": {
          "base_uri": "https://localhost:8080/",
          "height": 309
        }
      },
      "source": [
        "plt.scatter(Y_test, Y_pred)\n",
        "# plt.plot([min(X_train), max(X_train)], [min(Y_pred), max(Y_pred)], color='red')\n",
        "\n",
        "plt.xlabel(\"Prices: $Y_i$\")\n",
        "plt.ylabel(\"Predicted prices: $\\hat{Y}_i$\")\n",
        "plt.title(\"Prices vs Predicted prices: $Y_i$ vs $\\hat{Y}_i$\")\n",
        "plt.show()"
      ],
      "execution_count": 232,
      "outputs": [
        {
          "output_type": "display_data",
          "data": {
            "image/png": "[encoded data removed]",
            "text/plain": [
              "<Figure size 432x288 with 1 Axes>"
            ]
          },
          "metadata": {
            "tags": []
          }
        }
      ]
    },
    {
      "cell_type": "markdown",
      "metadata": {
        "id": "J6GBg4SG7V2W",
        "colab_type": "text"
      },
      "source": [
        "<H1 align='center'>VS</H1>"
      ]
    },
    {
      "cell_type": "markdown",
      "metadata": {
        "id": "Q9vm7lov7V2W",
        "colab_type": "text"
      },
      "source": [
        "# ScatterPlot for the predicted values using the Linear Regression by sklearn:"
      ]
    },
    {
      "cell_type": "code",
      "metadata": {
        "ExecuteTime": {
          "end_time": "2019-05-31T13:37:14.652322Z",
          "start_time": "2019-05-31T13:37:14.409935Z"
        },
        "id": "-zFHN8Fe7V2X",
        "colab_type": "code",
        "outputId": "40f09944-64d1-42ae-ead3-700408d248c8",
        "colab": {
          "base_uri": "https://localhost:8080/",
          "height": 309
        }
      },
      "source": [
        "plt.scatter(Y_test, y_pred_from_sklearn)\n",
        "plt.xlabel(\"Prices: $Y_i$\")\n",
        "plt.ylabel(\"Predicted prices: $\\hat{Y}_i$\")\n",
        "plt.title(\"Prices vs Predicted prices: $Y_i$ vs $\\hat{Y}_i$\")\n",
        "plt.show()"
      ],
      "execution_count": 226,
      "outputs": [
        {
          "output_type": "display_data",
          "data": {
            "image/png": "[encoded data removed]",
            "text/plain": [
              "<Figure size 432x288 with 1 Axes>"
            ]
          },
          "metadata": {
            "tags": []
          }
        }
      ]
    },
    {
      "cell_type": "code",
      "metadata": {
        "id": "LpRQuQ-rTOEU",
        "colab_type": "code",
        "colab": {
          "base_uri": "https://localhost:8080/",
          "height": 51
        },
        "outputId": "40af57b3-7006-4717-c5c7-6bd60b537704"
      },
      "source": [
        "from sklearn.metrics import mean_squared_error\n",
        "\n",
        "MSE_custom_LR_Model = mean_squared_error(Y_test, Y_pred)\n",
        "MSE_sklearn_LR_Model = mean_squared_error(Y_test, y_pred_from_sklearn)\n",
        "\n",
        "print(MSE_custom_LR_Model)\n",
        "print(MSE_sklearn_LR_Model)"
      ],
      "execution_count": 242,
      "outputs": [
        {
          "output_type": "stream",
          "text": [
            "0.3714923808284072\n",
            "0.33796030286154155\n"
          ],
          "name": "stdout"
        }
      ]
    },
    {
      "cell_type": "code",
      "metadata": {
        "id": "tTmhCUDCTOHj",
        "colab_type": "code",
        "colab": {}
      },
      "source": [
        ""
      ],
      "execution_count": 0,
      "outputs": []
    },
    {
      "cell_type": "code",
      "metadata": {
        "id": "FgtB62zmTOK7",
        "colab_type": "code",
        "colab": {}
      },
      "source": [
        ""
      ],
      "execution_count": 0,
      "outputs": []
    },
    {
      "cell_type": "code",
      "metadata": {
        "id": "eLh-ixmTTOO7",
        "colab_type": "code",
        "colab": {}
      },
      "source": [
        ""
      ],
      "execution_count": 0,
      "outputs": []
    },
    {
      "cell_type": "code",
      "metadata": {
        "id": "g0fN4kPnTOSg",
        "colab_type": "code",
        "colab": {}
      },
      "source": [
        ""
      ],
      "execution_count": 0,
      "outputs": []
    }
  ]
}